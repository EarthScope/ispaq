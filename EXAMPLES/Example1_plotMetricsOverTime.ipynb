{
 "cells": [
  {
   "cell_type": "markdown",
   "id": "unable-findings",
   "metadata": {},
   "source": [
    "# Example 1 - Plot sample_rms for a target over time\n",
    "This example plots a timeseries of a single metric over time.\n",
    "\n",
    "To run the example, it requires that there are sample_rms values\n",
    "for 2020-10-01 through 2020-10-25 for IU.ANMO.00.BH1.M in a\n",
    "database located at ./ispaq.db. To generate these values, you can run:\n",
    "\n",
    "    ./run_ispaq.py -M sample_rms -S ANMO --starttime 2020-10-01 --endtime 2020-10-26 --output db\n",
    "\n",
    "This example will assume that the above command has already been run and the metrics already exist.\n",
    "\n",
    "\n",
    "To begin, we need to import the necessary modules:"
   ]
  },
  {
   "cell_type": "code",
   "execution_count": 1,
   "id": "alive-fault",
   "metadata": {},
   "outputs": [],
   "source": [
    "import sqlite3\n",
    "import pandas as pd\n",
    "import matplotlib.pyplot as plt\n",
    "from matplotlib.dates import DateFormatter\n",
    "import matplotlib.dates as mdates\n",
    "import datetime"
   ]
  },
  {
   "cell_type": "markdown",
   "id": "built-shape",
   "metadata": {},
   "source": [
    "Now we need to set some variables:"
   ]
  },
  {
   "cell_type": "code",
   "execution_count": 2,
   "id": "fuzzy-underwear",
   "metadata": {},
   "outputs": [],
   "source": [
    "db_name = '../ispaq.db'\n",
    "metric = 'sample_rms'\n",
    "startDate = '2020-10-01'\n",
    "endDate = '2020-10-25'\n",
    "target = 'IU.ANMO.00.BH1.M'\n",
    "filename = f'example1_{target}_{startDate}_{endDate}.png'"
   ]
  },
  {
   "cell_type": "markdown",
   "id": "surgical-variable",
   "metadata": {},
   "source": [
    "The first step is to create a query that will be used to retrieve the sample_rms (or whatever metric you are using in the code block above)."
   ]
  },
  {
   "cell_type": "code",
   "execution_count": 3,
   "id": "regulated-convenience",
   "metadata": {},
   "outputs": [],
   "source": [
    "SQLcommand = f\"SELECT * FROM {metric} WHERE start >= '{startDate}' \" \\\n",
    "             f\"and start < '{endDate }' and (target like '{target}');\""
   ]
  },
  {
   "cell_type": "code",
   "execution_count": 4,
   "id": "particular-scratch",
   "metadata": {},
   "outputs": [
    {
     "name": "stdout",
     "output_type": "stream",
     "text": [
      "\n",
      "Command used to retrieve metrics from the sqlite database:\n",
      "SELECT * FROM sample_rms WHERE start >= '2020-10-01' and start < '2020-10-25' and (target like 'IU.ANMO.00.BH1.M');\n"
     ]
    }
   ],
   "source": [
    "print(\"\\nCommand used to retrieve metrics from the sqlite database:\")\n",
    "print(SQLcommand)"
   ]
  },
  {
   "cell_type": "markdown",
   "id": "documentary-terminal",
   "metadata": {},
   "source": [
    "\n",
    "Create a connection to the database and run the query, loading it into a pandas dataframe"
   ]
  },
  {
   "cell_type": "code",
   "execution_count": 5,
   "id": "controlling-glasgow",
   "metadata": {},
   "outputs": [],
   "source": [
    "try:\n",
    "   conn = sqlite3.connect(db_name)\n",
    "   DF = pd.read_sql_query(SQLcommand, conn, parse_dates=['start','end'])\n",
    "   conn.close\n",
    "except Exception as e:\n",
    "    print(f\"Unable to connect to or find the {metric} table in the database {db_name}:\\n{e}\")"
   ]
  },
  {
   "cell_type": "markdown",
   "id": "sixth-stack",
   "metadata": {},
   "source": [
    "At this point, we have created a query to retrieve the metrics from the SQLite database, used sqlite3 to connect to the database, retreieved the metrics, closed the connection, and then ensured that the start times are in a datetime format for plotting purposes. \n",
    "\n",
    "This is what the dataframe looks like:"
   ]
  },
  {
   "cell_type": "code",
   "execution_count": 6,
   "id": "brilliant-literacy",
   "metadata": {},
   "outputs": [
    {
     "name": "stdout",
     "output_type": "stream",
     "text": [
      "              target     value      start        end               lddate\n",
      "0   IU.ANMO.00.BH1.M   814.239 2020-10-01 2020-10-02  2021-03-03 16:40:48\n",
      "1   IU.ANMO.00.BH1.M   392.158 2020-10-02 2020-10-03  2021-03-03 16:40:48\n",
      "2   IU.ANMO.00.BH1.M   348.010 2020-10-03 2020-10-04  2021-03-03 16:40:48\n",
      "3   IU.ANMO.00.BH1.M   294.118 2020-10-04 2020-10-05  2021-03-03 16:40:48\n",
      "4   IU.ANMO.00.BH1.M   253.049 2020-10-05 2020-10-06  2021-03-03 16:40:48\n",
      "5   IU.ANMO.00.BH1.M   250.095 2020-10-06 2020-10-07  2021-03-03 16:40:48\n",
      "6   IU.ANMO.00.BH1.M   186.305 2020-10-07 2020-10-08  2021-03-03 16:40:48\n",
      "7   IU.ANMO.00.BH1.M   256.112 2020-10-08 2020-10-09  2021-03-03 16:40:48\n",
      "8   IU.ANMO.00.BH1.M   301.396 2020-10-09 2020-10-10  2021-03-03 16:40:48\n",
      "9   IU.ANMO.00.BH1.M   415.411 2020-10-10 2020-10-11  2021-03-03 16:40:48\n",
      "10  IU.ANMO.00.BH1.M   262.203 2020-10-11 2020-10-12  2021-03-03 16:40:48\n",
      "11  IU.ANMO.00.BH1.M   296.688 2020-10-12 2020-10-13  2021-03-03 16:40:48\n",
      "12  IU.ANMO.00.BH1.M   306.412 2020-10-13 2020-10-14  2021-03-03 16:40:48\n",
      "13  IU.ANMO.00.BH1.M   319.377 2020-10-14 2020-10-15  2021-03-03 16:40:48\n",
      "14  IU.ANMO.00.BH1.M   338.082 2020-10-15 2020-10-16  2021-03-03 16:40:48\n",
      "15  IU.ANMO.00.BH1.M   357.273 2020-10-16 2020-10-17  2021-03-03 16:40:48\n",
      "16  IU.ANMO.00.BH1.M   347.175 2020-10-17 2020-10-18  2021-03-03 16:40:48\n",
      "17  IU.ANMO.00.BH1.M   316.444 2020-10-18 2020-10-19  2021-03-03 16:40:48\n",
      "18  IU.ANMO.00.BH1.M  9674.820 2020-10-19 2020-10-20  2021-03-03 16:40:48\n",
      "19  IU.ANMO.00.BH1.M   449.107 2020-10-20 2020-10-21  2021-03-03 16:40:48\n",
      "20  IU.ANMO.00.BH1.M   191.187 2020-10-21 2020-10-22  2021-03-03 16:40:48\n",
      "21  IU.ANMO.00.BH1.M   162.212 2020-10-22 2020-10-23  2021-03-03 16:40:48\n",
      "22  IU.ANMO.00.BH1.M   221.976 2020-10-23 2020-10-24  2021-03-03 16:40:48\n",
      "23  IU.ANMO.00.BH1.M   291.637 2020-10-24 2020-10-25  2021-03-03 16:40:48\n"
     ]
    }
   ],
   "source": [
    "print(DF)"
   ]
  },
  {
   "cell_type": "markdown",
   "id": "motivated-joseph",
   "metadata": {},
   "source": [
    "For plotting purposes, we will create a new dataframe where each column (only one column in this case) is the metric and the associated values, and the index is the date of that value. "
   ]
  },
  {
   "cell_type": "code",
   "execution_count": 7,
   "id": "caroline-contemporary",
   "metadata": {},
   "outputs": [],
   "source": [
    "plotDF = pd.DataFrame()\n",
    "plotDF[metric] = DF['value']\n",
    "plotDF.index=DF['start']"
   ]
  },
  {
   "cell_type": "code",
   "execution_count": 8,
   "id": "returning-infrastructure",
   "metadata": {},
   "outputs": [
    {
     "name": "stdout",
     "output_type": "stream",
     "text": [
      "            sample_rms\n",
      "start                 \n",
      "2020-10-01     814.239\n",
      "2020-10-02     392.158\n",
      "2020-10-03     348.010\n",
      "2020-10-04     294.118\n",
      "2020-10-05     253.049\n",
      "2020-10-06     250.095\n",
      "2020-10-07     186.305\n",
      "2020-10-08     256.112\n",
      "2020-10-09     301.396\n",
      "2020-10-10     415.411\n",
      "2020-10-11     262.203\n",
      "2020-10-12     296.688\n",
      "2020-10-13     306.412\n",
      "2020-10-14     319.377\n",
      "2020-10-15     338.082\n",
      "2020-10-16     357.273\n",
      "2020-10-17     347.175\n",
      "2020-10-18     316.444\n",
      "2020-10-19    9674.820\n",
      "2020-10-20     449.107\n",
      "2020-10-21     191.187\n",
      "2020-10-22     162.212\n",
      "2020-10-23     221.976\n",
      "2020-10-24     291.637\n"
     ]
    }
   ],
   "source": [
    "print(plotDF)"
   ]
  },
  {
   "cell_type": "markdown",
   "id": "hybrid-richards",
   "metadata": {},
   "source": [
    "Now we use that dataframe to produce a plot."
   ]
  },
  {
   "cell_type": "code",
   "execution_count": 9,
   "id": "hourly-basics",
   "metadata": {},
   "outputs": [
    {
     "data": {
      "image/png": "[encoded data removed]",
      "text/plain": [
       "<Figure size 432x288 with 1 Axes>"
      ]
     },
     "metadata": {
      "needs_background": "light"
     },
     "output_type": "display_data"
    }
   ],
   "source": [
    "ax = plotDF.plot(style='.', color='k', title=metric)\n",
    "ax.xaxis.set_major_locator(mdates.DayLocator(interval=2))\n",
    "plt.minorticks_off()\n",
    "date_form = DateFormatter(\"%m-%d\")\n",
    "ax.xaxis.set_major_formatter(date_form)\n",
    "plt.gcf().autofmt_xdate()"
   ]
  },
  {
   "cell_type": "markdown",
   "id": "adjustable-spoke",
   "metadata": {},
   "source": [
    "And save the plot for later viewing."
   ]
  },
  {
   "cell_type": "code",
   "execution_count": 10,
   "id": "western-collector",
   "metadata": {},
   "outputs": [
    {
     "data": {
      "text/plain": [
       "<Figure size 432x288 with 0 Axes>"
      ]
     },
     "metadata": {},
     "output_type": "display_data"
    }
   ],
   "source": [
    "plt.savefig(filename)"
   ]
  },
  {
   "cell_type": "code",
   "execution_count": null,
   "id": "chief-listing",
   "metadata": {},
   "outputs": [],
   "source": []
  }
 ],
 "metadata": {
  "kernelspec": {
   "display_name": "Python 3",
   "language": "python",
   "name": "python3"
  },
  "language_info": {
   "codemirror_mode": {
    "name": "ipython",
    "version": 3
   },
   "file_extension": ".py",
   "mimetype": "text/x-python",
   "name": "python",
   "nbconvert_exporter": "python",
   "pygments_lexer": "ipython3",
   "version": "3.8.8"
  }
 },
 "nbformat": 4,
 "nbformat_minor": 5
}
