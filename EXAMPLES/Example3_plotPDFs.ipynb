{
 "cells": [
  {
   "cell_type": "markdown",
   "id": "constitutional-detective",
   "metadata": {},
   "source": [
    "## Example 3 - Plot PDF for a station\n",
    "This example requires that we have the PDF values already calculated for the target for the requested\n",
    "days, and those values should live in the database.  If you have not already, you can run this command\n",
    "to have the values generated for the target-days in this example:\n",
    "\n",
    "    ./run_ispaq.py -M pdf -S ANMO --starttime 2020-10-01 --endtime 2020-10-26 --output db --pdf_interval aggregated\n",
    "\n",
    "To generate PDFs, corrected PSD values must already exist. If they do not yet exist, then you can run them via:\n",
    "\n",
    "    ./run_ispaq.py -M psd_corrected -S ANMO --starttime 2020-10-01 --endtime 2020-10-26 --output db\n",
    "\n",
    "Or to calculate both PSDs and PDFs at the same time:\n",
    "\n",
    "    ./run_ispaq.py -M psd_corrected,pdf -S ANMO --starttime 2020-10-01 --endtime 2020-10-26 --output db --pdf_interval aggregated\n",
    "\n",
    "This example will assume that the above command has already been run and the PDFs already exist.\n",
    "\n",
    "To begin, we need to import the necessary modules:"
   ]
  },
  {
   "cell_type": "code",
   "execution_count": 1,
   "id": "spanish-charm",
   "metadata": {},
   "outputs": [],
   "source": [
    "import sqlite3\n",
    "import pandas as pd\n",
    "import matplotlib.pyplot as plt\n",
    "from matplotlib.dates import DateFormatter\n",
    "import matplotlib.dates as mdates\n",
    "import numpy as np\n",
    "import datetime"
   ]
  },
  {
   "cell_type": "markdown",
   "id": "simple-tobago",
   "metadata": {},
   "source": [
    "Because PDFs are calculated for set frequency bins, which depend on the sample rate of the data, we create a simple function that will help us with placing our tick marks in the right location in the plot."
   ]
  },
  {
   "cell_type": "code",
   "execution_count": 4,
   "id": "certain-stationery",
   "metadata": {},
   "outputs": [],
   "source": [
    "def find_nearest(array, value):\n",
    "    array = np.asarray(array)\n",
    "    idx = (np.abs(array - value)).argmin()\n",
    "    return idx"
   ]
  },
  {
   "cell_type": "markdown",
   "id": "coordinate-immigration",
   "metadata": {},
   "source": [
    "And now set some variables."
   ]
  },
  {
   "cell_type": "code",
   "execution_count": 5,
   "id": "specified-experiment",
   "metadata": {},
   "outputs": [],
   "source": [
    "db_name = '../ispaq.db'\n",
    "metric = 'pdf'\n",
    "startDate = '2020-10-01T00:00:00.000000Z'       # Full time is important for retrieving PDFs\n",
    "endDate = '2020-10-25T23:59:59.000000Z'\n",
    "target = 'IU.ANMO.00.BH1'       # the pdf metric does not include a quality code\n",
    "\n",
    "startdate = startDate.split('T')[0]\n",
    "enddate = endDate.split('T')[0]\n",
    "filename = f'example3_{target}_{startdate}_{enddate}_PDF.png'"
   ]
  },
  {
   "cell_type": "markdown",
   "id": "bizarre-yellow",
   "metadata": {},
   "source": [
    "The first step is to create a query that will be used to retrieve the PDFs."
   ]
  },
  {
   "cell_type": "code",
   "execution_count": 6,
   "id": "following-defendant",
   "metadata": {
    "scrolled": true
   },
   "outputs": [
    {
     "name": "stdout",
     "output_type": "stream",
     "text": [
      "SELECT * FROM pdf WHERE start = '2020-10-01T00:00:00.000000Z' and end = '2020-10-25T23:59:59.000000Z' and (target like 'IU.ANMO.00.BH1');\n"
     ]
    }
   ],
   "source": [
    "SQLcommand = f\"SELECT * FROM {metric} WHERE start = '{startDate}' \" \\\n",
    "             f\"and end = '{endDate}' and (target like '{target}');\"\n",
    "print(SQLcommand)"
   ]
  },
  {
   "cell_type": "markdown",
   "id": "internal-durham",
   "metadata": {},
   "source": [
    "Create a connection to the database and run the query, loading it into a pandas dataframe"
   ]
  },
  {
   "cell_type": "code",
   "execution_count": 7,
   "id": "twelve-insertion",
   "metadata": {},
   "outputs": [],
   "source": [
    "try:\n",
    "    conn = sqlite3.connect(db_name)\n",
    "    DF = pd.read_sql_query(SQLcommand, conn, parse_dates=['start','end'])\n",
    "    conn.close\n",
    "except:\n",
    "    print(f\"Unable to connect to or find the {metric} table in the database {db_name}\")"
   ]
  },
  {
   "cell_type": "code",
   "execution_count": 8,
   "id": "ceramic-exploration",
   "metadata": {},
   "outputs": [],
   "source": [
    "if DF.empty:\n",
    "    print(\"Empty return: there are no PDFs that were retrieved\")"
   ]
  },
  {
   "cell_type": "code",
   "execution_count": 9,
   "id": "accessory-comparative",
   "metadata": {},
   "outputs": [
    {
     "name": "stdout",
     "output_type": "stream",
     "text": [
      "              target  frequency  power   hits                     start  \\\n",
      "0     IU.ANMO.00.BH1   0.005256 -186.0    1.0 2020-10-01 00:00:00+00:00   \n",
      "1     IU.ANMO.00.BH1   0.005256 -184.0    8.0 2020-10-01 00:00:00+00:00   \n",
      "2     IU.ANMO.00.BH1   0.005256 -183.0   23.0 2020-10-01 00:00:00+00:00   \n",
      "3     IU.ANMO.00.BH1   0.005256 -182.0   63.0 2020-10-01 00:00:00+00:00   \n",
      "4     IU.ANMO.00.BH1   0.005256 -181.0  127.0 2020-10-01 00:00:00+00:00   \n",
      "...              ...        ...    ...    ...                       ...   \n",
      "3109  IU.ANMO.00.BH1  19.740300  -75.0   12.0 2020-10-01 00:00:00+00:00   \n",
      "3110  IU.ANMO.00.BH1  19.740300  -74.0   20.0 2020-10-01 00:00:00+00:00   \n",
      "3111  IU.ANMO.00.BH1  19.740300  -73.0   10.0 2020-10-01 00:00:00+00:00   \n",
      "3112  IU.ANMO.00.BH1  19.740300  -72.0    1.0 2020-10-01 00:00:00+00:00   \n",
      "3113  IU.ANMO.00.BH1  19.740300  -70.0    1.0 2020-10-01 00:00:00+00:00   \n",
      "\n",
      "                           end               lddate  \n",
      "0    2020-10-25 23:59:59+00:00  2021-03-03 19:31:37  \n",
      "1    2020-10-25 23:59:59+00:00  2021-03-03 19:31:37  \n",
      "2    2020-10-25 23:59:59+00:00  2021-03-03 19:31:37  \n",
      "3    2020-10-25 23:59:59+00:00  2021-03-03 19:31:37  \n",
      "4    2020-10-25 23:59:59+00:00  2021-03-03 19:31:37  \n",
      "...                        ...                  ...  \n",
      "3109 2020-10-25 23:59:59+00:00  2021-03-03 19:31:40  \n",
      "3110 2020-10-25 23:59:59+00:00  2021-03-03 19:31:40  \n",
      "3111 2020-10-25 23:59:59+00:00  2021-03-03 19:31:40  \n",
      "3112 2020-10-25 23:59:59+00:00  2021-03-03 19:31:40  \n",
      "3113 2020-10-25 23:59:59+00:00  2021-03-03 19:31:40  \n",
      "\n",
      "[3114 rows x 7 columns]\n"
     ]
    }
   ],
   "source": [
    "print(DF)"
   ]
  },
  {
   "cell_type": "markdown",
   "id": "protected-bailey",
   "metadata": {},
   "source": [
    "Sum up the total number of hits for each frequency:"
   ]
  },
  {
   "cell_type": "code",
   "execution_count": 10,
   "id": "accompanied-services",
   "metadata": {},
   "outputs": [],
   "source": [
    "for frequency in DF['frequency'].unique():\n",
    "        # Sum hits for total column\n",
    "        DF.loc[DF['frequency'] == frequency, 'total'] = sum(DF[DF['frequency'] == frequency]['hits'])"
   ]
  },
  {
   "cell_type": "markdown",
   "id": "secret-civilization",
   "metadata": {},
   "source": [
    "For each frequency-power bin, calculate what percentage of the total hits for that frequency are at that power. "
   ]
  },
  {
   "cell_type": "code",
   "execution_count": 11,
   "id": "outside-january",
   "metadata": {},
   "outputs": [],
   "source": [
    "DF['percent'] = DF['hits'] / DF['total'] * 100"
   ]
  },
  {
   "cell_type": "markdown",
   "id": "tracked-click",
   "metadata": {},
   "source": [
    "Create a minimum range of powers (Y-axis) for better viewing."
   ]
  },
  {
   "cell_type": "code",
   "execution_count": 12,
   "id": "optimum-community",
   "metadata": {},
   "outputs": [],
   "source": [
    "p1 = int(min(DF['power'].unique()))\n",
    "p2 = int(max(DF['power'].unique()))\n",
    "if p1 > -190:\n",
    "    p1 = -190\n",
    "if p2 < -90:\n",
    "    p2 = -90\n",
    "    \n",
    "powers = sorted(range(p1,p2+1), reverse=True)\n",
    "freqs = sorted(DF['frequency'].unique(),reverse = True)"
   ]
  },
  {
   "cell_type": "markdown",
   "id": "conceptual-diabetes",
   "metadata": {},
   "source": [
    "Create a new dataframe for plotting: rows are powers, columns are periods, value is percent of hits"
   ]
  },
  {
   "cell_type": "code",
   "execution_count": 13,
   "id": "banned-spring",
   "metadata": {},
   "outputs": [],
   "source": [
    "plotDF = pd.DataFrame(0,index=powers,columns=freqs)\n",
    "nonZeroFreqs=[]\n",
    "for power in powers:\n",
    "    for freq in freqs:\n",
    "        value = DF[(DF['frequency']==freq) & (DF['power']== power)]['percent'].values\n",
    "        try:\n",
    "            plotDF.loc[power,freq] = value[0]\n",
    "            if value[0] != 0:\n",
    "                # Keep track of the frequencies that have hits, for axes limits\n",
    "                nonZeroFreqs.append(freq)\n",
    "        except:\n",
    "            continue"
   ]
  },
  {
   "cell_type": "markdown",
   "id": "revised-workstation",
   "metadata": {},
   "source": [
    "Matplotlib imshow takes a list (matrix) of values, so convert the dataframe to a list"
   ]
  },
  {
   "cell_type": "code",
   "execution_count": 14,
   "id": "grave-antique",
   "metadata": {},
   "outputs": [],
   "source": [
    "plotList = plotDF.values.tolist()"
   ]
  },
  {
   "cell_type": "markdown",
   "id": "opposed-traveler",
   "metadata": {},
   "source": [
    "And now we set up some plotting options:"
   ]
  },
  {
   "cell_type": "code",
   "execution_count": 15,
   "id": "spectacular-incident",
   "metadata": {},
   "outputs": [],
   "source": [
    "# Set up plotting -- color map\n",
    "cmap = plt.get_cmap('gist_heat', 3000)  # You can change the colormap here\n",
    "cmaplist = [cmap(i) for i in range(cmap.N)]\n",
    "\n",
    "# convert the first nchange to fade from white, so that anywhere without any hits (or very few) is white\n",
    "nchange = 100\n",
    "for i in range(nchange):\n",
    "    first = cmaplist[nchange][0]\n",
    "    second = cmaplist[nchange][1]\n",
    "    third = cmaplist[nchange][2]\n",
    "    scaleFactor = (nchange-1-i)/float(nchange)\n",
    "\n",
    "    df = ((1-first) * scaleFactor) + first\n",
    "    ds = ((1-second)* scaleFactor) + second\n",
    "    dt = ((1-third) * scaleFactor) + third\n",
    "\n",
    "    cmaplist[i] = (df, ds, dt, 1)\n",
    "\n",
    "cmaplist[0] = (1,1,1,1)\n",
    "cmap = cmap.from_list('Custom cmap', cmaplist, cmap.N)"
   ]
  },
  {
   "cell_type": "code",
   "execution_count": 16,
   "id": "photographic-angle",
   "metadata": {},
   "outputs": [],
   "source": [
    "# Set up plotting -- axis labeling and ticks\n",
    "periodPoints = [0.001, 0.01, 0.1, 1, 10, 100, 1000, 10000]\n",
    "freqPoints = [1/float(i) for i in periodPoints]\n",
    "xfilter = [(i <= freqs[0]) and (i >= freqs[-1]) for i in freqPoints]\n",
    "xlabels = [i for (i, v) in zip(freqPoints, xfilter) if v]\n",
    "xticks = [find_nearest(freqs, i) for i in xlabels]\n",
    "xlabels = [int(1/i)  if i<=1 else 1/i for i in xlabels]     #convert to period, use decimal only if <1s\n",
    "\n",
    "yticks = [powers.index(i) for i in list(filter(lambda x: (x % 10 == 0), powers))]\n",
    "ylabels = [powers[i] for i in yticks]"
   ]
  },
  {
   "cell_type": "code",
   "execution_count": 17,
   "id": "considered-sister",
   "metadata": {},
   "outputs": [
    {
     "data": {
      "text/plain": [
       "<Figure size 864x511.2 with 0 Axes>"
      ]
     },
     "execution_count": 17,
     "metadata": {},
     "output_type": "execute_result"
    },
    {
     "data": {
      "text/plain": [
       "<Figure size 864x511.2 with 0 Axes>"
      ]
     },
     "metadata": {},
     "output_type": "display_data"
    }
   ],
   "source": [
    "# Set up plotting -- plot\n",
    "height = ylabels[0] - ylabels[-1]\n",
    "plt.figure(figsize=( 12, (.055*height + .5) ))"
   ]
  },
  {
   "cell_type": "code",
   "execution_count": 18,
   "id": "express-fancy",
   "metadata": {},
   "outputs": [
    {
     "data": {
      "image/png": "[encoded data removed]",
      "text/plain": [
       "<Figure size 432x288 with 2 Axes>"
      ]
     },
     "metadata": {
      "needs_background": "light"
     },
     "output_type": "display_data"
    }
   ],
   "source": [
    "plt.imshow(plotList, cmap=cmap,  vmin=0, vmax=30, aspect=.4, interpolation='bilinear')\n",
    "# Adjust grids, labels, limits, titles, etc\n",
    "plt.grid(linestyle=':', linewidth=1)\n",
    "plt.xlabel('Period (s)',size=18)\n",
    "plt.ylabel(r'Power [$10log_{10}(\\frac{m^2/s^4}{hz}$)][dB]',size=18)\n",
    "\n",
    "plt.xticks(xticks[::-1], xlabels[::-1],size=15)\n",
    "plt.yticks(yticks,ylabels,size=15)\n",
    "\n",
    "xmin=freqs.index(min(nonZeroFreqs))\n",
    "xmax=freqs.index(max(nonZeroFreqs))\n",
    "plt.xlim(xmax,xmin)\n",
    "plt.ylim(max(yticks)+5,min(yticks)-5)\n",
    "\n",
    "plt.title(f\"{target}\\n{startdate} through {enddate}\", size=18)\n",
    "\n",
    "# User has option to include colorbar and/or legend\n",
    "cb = plt.colorbar(fraction=.02)\n",
    "cb.set_label('percent probability',labelpad=-50)\n"
   ]
  },
  {
   "cell_type": "markdown",
   "id": "occupied-hands",
   "metadata": {},
   "source": [
    "Save the figure for later use:"
   ]
  },
  {
   "cell_type": "code",
   "execution_count": null,
   "id": "behind-asbestos",
   "metadata": {},
   "outputs": [],
   "source": [
    "plt.tight_layout()\n",
    "plt.savefig(filename)"
   ]
  }
 ],
 "metadata": {
  "kernelspec": {
   "display_name": "Python 3",
   "language": "python",
   "name": "python3"
  },
  "language_info": {
   "codemirror_mode": {
    "name": "ipython",
    "version": 3
   },
   "file_extension": ".py",
   "mimetype": "text/x-python",
   "name": "python",
   "nbconvert_exporter": "python",
   "pygments_lexer": "ipython3",
   "version": "3.8.8"
  }
 },
 "nbformat": 4,
 "nbformat_minor": 5
}
